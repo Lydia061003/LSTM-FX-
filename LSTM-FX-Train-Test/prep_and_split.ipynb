{
 "metadata": {
  "language_info": {
   "codemirror_mode": {
    "name": "ipython",
    "version": 3
   },
   "file_extension": ".py",
   "mimetype": "text/x-python",
   "name": "python",
   "nbconvert_exporter": "python",
   "pygments_lexer": "ipython3",
   "version": "3.8.5-final"
  },
  "orig_nbformat": 2,
  "kernelspec": {
   "name": "python_defaultSpec_1600541755698",
   "display_name": "Python 3.8.5 64-bit ('tf': conda)"
  }
 },
 "nbformat": 4,
 "nbformat_minor": 2,
 "cells": [
  {
   "cell_type": "code",
   "execution_count": null,
   "metadata": {},
   "outputs": [],
   "source": [
    "import pandas as pd\n",
    "import numpy as np\n",
    "from common_variables import *"
   ]
  },
  {
   "cell_type": "code",
   "execution_count": null,
   "metadata": {
    "tags": []
   },
   "outputs": [],
   "source": [
    "df_csv = pd.read_csv(full_time_series_path, usecols=['Date','High','Low'], \n",
    "    index_col=['Date'], parse_dates=['Date'])\n",
    "df = df_csv[df_csv.index >= pd.to_datetime(start_date)]\n",
    "df"
   ]
  },
  {
   "cell_type": "code",
   "execution_count": null,
   "metadata": {},
   "outputs": [],
   "source": [
    "df[\"HLAvg\"] = df['High'].add(df['Low']).div(2)\n",
    "del df['High']\n",
    "del df['Low']\n",
    "# Simple Moving Average\n",
    "df['MA'] = df['HLAvg'].rolling(window=ma_periods).mean()\n",
    "# Log Returns\n",
    "df['Returns'] = np.log(df['MA']/df['MA'].shift(1))\n",
    "df.head(15)"
   ]
  },
  {
   "cell_type": "code",
   "execution_count": null,
   "metadata": {},
   "outputs": [],
   "source": [
    "df.dropna(how='any', inplace=True)\n",
    "df = df[df.shape[0] % batch_size:]\n",
    "df"
   ]
  },
  {
   "cell_type": "code",
   "execution_count": null,
   "metadata": {
    "tags": []
   },
   "outputs": [],
   "source": [
    "df_train = df[:- validation_size - test_size]\n",
    "df_validation = df[- validation_size - test_size - window_size:- test_size]\n",
    "df_test = df[- test_size - window_size:]\n",
    "print(f'df_train.shape {df_train.shape}, df_validation.shape {df_validation.shape}, df_test.shape {df_test.shape}')"
   ]
  },
  {
   "cell_type": "code",
   "execution_count": null,
   "metadata": {},
   "outputs": [],
   "source": [
    "df_train.to_csv(train_time_series_path)\n",
    "df_validation.to_csv(validate_time_series_path)\n",
    "df_test.to_csv(test_time_series_path)"
   ]
  }
 ]
}
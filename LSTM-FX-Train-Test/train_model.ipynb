{
 "metadata": {
  "language_info": {
   "codemirror_mode": {
    "name": "ipython",
    "version": 3
   },
   "file_extension": ".py",
   "mimetype": "text/x-python",
   "name": "python",
   "nbconvert_exporter": "python",
   "pygments_lexer": "ipython3",
   "version": "3.8.5-final"
  },
  "orig_nbformat": 2,
  "kernelspec": {
   "name": "python_defaultSpec_1600707321552",
   "display_name": "Python 3.8.5 64-bit ('tf': conda)"
  }
 },
 "nbformat": 4,
 "nbformat_minor": 2,
 "cells": [
  {
   "cell_type": "code",
   "execution_count": null,
   "metadata": {},
   "outputs": [],
   "source": [
    "import pandas as pd\n",
    "import numpy as np\n",
    "import matplotlib.pyplot as plt\n",
    "import joblib\n",
    "from sklearn.preprocessing import MinMaxScaler\n",
    "import tensorflow as tf\n",
    "from tensorflow.keras.models import Sequential, save_model\n",
    "from tensorflow.keras.layers import LSTM, Dropout, Dense\n",
    "from tensorflow.keras.optimizers import Adam\n",
    "from tensorflow.keras.callbacks import EarlyStopping\n",
    "from common_variables import *\n",
    "from time_series import *"
   ]
  },
  {
   "cell_type": "code",
   "execution_count": null,
   "metadata": {},
   "outputs": [],
   "source": [
    "epochs = 200\n",
    "np.random.seed(seed)\n",
    "tf.random.set_seed(seed)"
   ]
  },
  {
   "cell_type": "code",
   "execution_count": null,
   "metadata": {
    "tags": []
   },
   "outputs": [],
   "source": [
    "df = pd.read_csv(train_time_series_path, dayfirst=True, \n",
    "    index_col=['Date'], parse_dates=['Date'])\n",
    "df"
   ]
  },
  {
   "cell_type": "code",
   "execution_count": null,
   "metadata": {
    "tags": []
   },
   "outputs": [],
   "source": [
    "fig = plt.figure(figsize=(24, 18))\n",
    "ax1, ax2, ax3 = fig.subplots(3)\n",
    "ax1.set_title('HLAvg')\n",
    "ax1.set(xlabel='Date', ylabel='High-Low Average')\n",
    "ax1.plot(df['HLAvg'])\n",
    "ax2.set_title('MA')\n",
    "ax2.set(xlabel='Date', ylabel='MA')\n",
    "ax2.plot(df['MA'])\n",
    "ax3.set_title('Returns')\n",
    "ax3.set(xlabel='Date', ylabel='Returns')\n",
    "ax3.plot(df['Returns'])"
   ]
  },
  {
   "cell_type": "code",
   "execution_count": null,
   "metadata": {
    "tags": []
   },
   "outputs": [],
   "source": [
    "scaler = MinMaxScaler()\n",
    "train_values = scaler.fit_transform(df[['Returns']].values)"
   ]
  },
  {
   "cell_type": "code",
   "execution_count": null,
   "metadata": {},
   "outputs": [],
   "source": [
    "fig = plt.figure(figsize=(24, 8))\n",
    "ax1 = fig.subplots(1)\n",
    "ax1.set_title('Returns MinMax Scaled')\n",
    "ax1.set(xlabel='Sample', ylabel='Scaled Returns')\n",
    "ax1.plot(train_values)"
   ]
  },
  {
   "cell_type": "code",
   "execution_count": null,
   "metadata": {
    "tags": []
   },
   "outputs": [],
   "source": [
    "X, y = get_train(train_values, window_size)"
   ]
  },
  {
   "cell_type": "code",
   "execution_count": null,
   "metadata": {
    "tags": []
   },
   "outputs": [],
   "source": [
    "df_val = pd.read_csv(validate_time_series_path, dayfirst = True, usecols=['Date','Returns'],\n",
    "    index_col=['Date'], parse_dates=['Date'])\n",
    "df_val['Scaled'] = scaler.transform(df_val[['Returns']].values)\n",
    "X_val, y_val = get_val(df_val['Scaled'].values, window_size)"
   ]
  },
  {
   "cell_type": "code",
   "execution_count": null,
   "metadata": {
    "tags": []
   },
   "outputs": [],
   "source": [
    "model = Sequential()\n",
    "model.add(LSTM(76, input_shape=(X.shape[1], 1), return_sequences = False))\n",
    "model.add(Dropout(0.2))\n",
    "model.add(Dense(1))\n",
    "optimizer = tf.keras.optimizers.Adam()\n",
    "model.compile(loss=\"mse\", optimizer=optimizer)\n",
    "\n",
    "print(model.summary())"
   ]
  },
  {
   "cell_type": "code",
   "execution_count": null,
   "metadata": {
    "tags": []
   },
   "outputs": [],
   "source": [
    "history = model.fit(X, y, validation_data=(X_val, y_val), epochs = epochs, batch_size = batch_size, shuffle=False, verbose = 2)"
   ]
  },
  {
   "cell_type": "code",
   "execution_count": null,
   "metadata": {
    "tags": []
   },
   "outputs": [],
   "source": [
    "save_model(model, model_path)\n",
    "joblib.dump(scaler, scaler_path) "
   ]
  },
  {
   "cell_type": "code",
   "execution_count": null,
   "metadata": {
    "tags": []
   },
   "outputs": [],
   "source": [
    "fig = plt.figure(figsize=(12, 8))\n",
    "ax1 = fig.subplots(1)\n",
    "ax1.set_title('Model Loss')\n",
    "ax1.set(xlabel='Epoch', ylabel='Loss')\n",
    "ax1.plot(history.history['loss'][7:], label='Train Loss')\n",
    "ax1.plot(history.history['val_loss'][7:], label='Val Loss')\n",
    "ax1.legend()"
   ]
  },
  {
   "cell_type": "code",
   "execution_count": null,
   "metadata": {},
   "outputs": [],
   "source": []
  }
 ]
}